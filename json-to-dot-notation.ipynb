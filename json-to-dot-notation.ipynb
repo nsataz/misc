{
 "cells": [
  {
   "cell_type": "code",
   "execution_count": 1,
   "id": "f2e3025b",
   "metadata": {},
   "outputs": [],
   "source": [
    "import pandas as pd\n",
    "import json"
   ]
  },
  {
   "cell_type": "code",
   "execution_count": 3,
   "id": "338be1e1",
   "metadata": {},
   "outputs": [],
   "source": [
    " # Open file with the raw data\n",
    "file = open(\"data.json\", encoding=\"utf8\")\n",
    "\n",
    "# Load data as JSON\n",
    "raw_data = json.load(file)\n",
    "\n",
    "# Close the original file\n",
    "file.close()"
   ]
  },
  {
   "cell_type": "code",
   "execution_count": 4,
   "id": "911dbaa8",
   "metadata": {},
   "outputs": [
    {
     "data": {
      "text/plain": [
       "[{'id': '0001',\n",
       "  'type': 'donut',\n",
       "  'name': 'Cake',\n",
       "  'ppu': 0.55,\n",
       "  'batters': {'batter': [{'id': '1001', 'type': 'Regular'},\n",
       "    {'id': '1002', 'type': 'Chocolate'},\n",
       "    {'id': '1003', 'type': 'Blueberry'},\n",
       "    {'id': '1004', 'type': \"Devil's Food\"}]},\n",
       "  'topping': [{'id': '5001', 'type': 'None'},\n",
       "   {'id': '5002', 'type': 'Glazed'},\n",
       "   {'id': '5005', 'type': 'Sugar'},\n",
       "   {'id': '5007', 'type': 'Powdered Sugar'},\n",
       "   {'id': '5006', 'type': 'Chocolate with Sprinkles'},\n",
       "   {'id': '5003', 'type': 'Chocolate'},\n",
       "   {'id': '5004', 'type': 'Maple'}]},\n",
       " {'id': '0002',\n",
       "  'type': 'donut',\n",
       "  'name': 'Raised',\n",
       "  'ppu': 0.55,\n",
       "  'batters': {'batter': [{'id': '1001', 'type': 'Regular'}]},\n",
       "  'topping': [{'id': '5001', 'type': 'None'},\n",
       "   {'id': '5002', 'type': 'Glazed'},\n",
       "   {'id': '5005', 'type': 'Sugar'},\n",
       "   {'id': '5003', 'type': 'Chocolate'},\n",
       "   {'id': '5004', 'type': 'Maple'}]},\n",
       " {'id': '0003',\n",
       "  'type': 'donut',\n",
       "  'name': 'Old Fashioned',\n",
       "  'ppu': 0.55,\n",
       "  'batters': {'batter': [{'id': '1001', 'type': 'Regular'},\n",
       "    {'id': '1002', 'type': 'Chocolate'}]},\n",
       "  'topping': [{'id': '5001', 'type': 'None'},\n",
       "   {'id': '5002', 'type': 'Glazed'},\n",
       "   {'id': '5003', 'type': 'Chocolate'},\n",
       "   {'id': '5004', 'type': 'Maple'}]}]"
      ]
     },
     "execution_count": 4,
     "metadata": {},
     "output_type": "execute_result"
    }
   ],
   "source": [
    "# this is what the sample data looks like\n",
    "raw_data"
   ]
  },
  {
   "cell_type": "code",
   "execution_count": 5,
   "id": "1ef7c74a",
   "metadata": {},
   "outputs": [
    {
     "data": {
      "text/html": [
       "<div>\n",
       "<style scoped>\n",
       "    .dataframe tbody tr th:only-of-type {\n",
       "        vertical-align: middle;\n",
       "    }\n",
       "\n",
       "    .dataframe tbody tr th {\n",
       "        vertical-align: top;\n",
       "    }\n",
       "\n",
       "    .dataframe thead th {\n",
       "        text-align: right;\n",
       "    }\n",
       "</style>\n",
       "<table border=\"1\" class=\"dataframe\">\n",
       "  <thead>\n",
       "    <tr style=\"text-align: right;\">\n",
       "      <th></th>\n",
       "      <th>id</th>\n",
       "      <th>type</th>\n",
       "      <th>name</th>\n",
       "      <th>ppu</th>\n",
       "      <th>batters</th>\n",
       "      <th>topping</th>\n",
       "    </tr>\n",
       "  </thead>\n",
       "  <tbody>\n",
       "    <tr>\n",
       "      <th>0</th>\n",
       "      <td>0001</td>\n",
       "      <td>donut</td>\n",
       "      <td>Cake</td>\n",
       "      <td>0.55</td>\n",
       "      <td>{'batter': [{'id': '1001', 'type': 'Regular'},...</td>\n",
       "      <td>[{'id': '5001', 'type': 'None'}, {'id': '5002'...</td>\n",
       "    </tr>\n",
       "    <tr>\n",
       "      <th>1</th>\n",
       "      <td>0002</td>\n",
       "      <td>donut</td>\n",
       "      <td>Raised</td>\n",
       "      <td>0.55</td>\n",
       "      <td>{'batter': [{'id': '1001', 'type': 'Regular'}]}</td>\n",
       "      <td>[{'id': '5001', 'type': 'None'}, {'id': '5002'...</td>\n",
       "    </tr>\n",
       "    <tr>\n",
       "      <th>2</th>\n",
       "      <td>0003</td>\n",
       "      <td>donut</td>\n",
       "      <td>Old Fashioned</td>\n",
       "      <td>0.55</td>\n",
       "      <td>{'batter': [{'id': '1001', 'type': 'Regular'},...</td>\n",
       "      <td>[{'id': '5001', 'type': 'None'}, {'id': '5002'...</td>\n",
       "    </tr>\n",
       "  </tbody>\n",
       "</table>\n",
       "</div>"
      ],
      "text/plain": [
       "     id   type           name   ppu  \\\n",
       "0  0001  donut           Cake  0.55   \n",
       "1  0002  donut         Raised  0.55   \n",
       "2  0003  donut  Old Fashioned  0.55   \n",
       "\n",
       "                                             batters  \\\n",
       "0  {'batter': [{'id': '1001', 'type': 'Regular'},...   \n",
       "1    {'batter': [{'id': '1001', 'type': 'Regular'}]}   \n",
       "2  {'batter': [{'id': '1001', 'type': 'Regular'},...   \n",
       "\n",
       "                                             topping  \n",
       "0  [{'id': '5001', 'type': 'None'}, {'id': '5002'...  \n",
       "1  [{'id': '5001', 'type': 'None'}, {'id': '5002'...  \n",
       "2  [{'id': '5001', 'type': 'None'}, {'id': '5002'...  "
      ]
     },
     "execution_count": 5,
     "metadata": {},
     "output_type": "execute_result"
    }
   ],
   "source": [
    "# load it as a data frame\n",
    "df = pd.DataFrame(raw_data)\n",
    "df"
   ]
  },
  {
   "cell_type": "code",
   "execution_count": 6,
   "id": "a5292546",
   "metadata": {},
   "outputs": [],
   "source": [
    "# write function to convert dict to dot notation paths\n",
    "# this will also add a sequential digit to differentiate similar filepaths\n",
    "\n",
    "def walk_path(input_value, old='', count=None):\n",
    "    \"\"\"\n",
    "    convert json to dot notation paths\n",
    "    \"\"\"\n",
    "    if isinstance(input_value, dict):\n",
    "        if input_value :# if a not an empty dictionary:\n",
    "            for key in input_value.keys():\n",
    "                \n",
    "                walk_path(input_value[key], old+'.'+str(key))\n",
    "        else:\n",
    "            \n",
    "            all_paths.append(old)\n",
    "            all_vals.append('{}')\n",
    "            \n",
    "    elif isinstance(input_value, list):\n",
    "        if input_value:\n",
    "            for i, k in enumerate(input_value):\n",
    "                walk_path(k, old+'.'+str(i))\n",
    "        else:\n",
    "            \n",
    "            all_paths.append(old)\n",
    "            all_vals.append('[]')\n",
    "    else:\n",
    "        all_paths.append(old)\n",
    "        all_vals.append(str(input_value))\n",
    "    \n",
    "    return all_vals, all_paths\n",
    "    "
   ]
  },
  {
   "cell_type": "code",
   "execution_count": 7,
   "id": "0d373348",
   "metadata": {},
   "outputs": [],
   "source": [
    "# test out the function on the 'batters' column\n",
    "all_results = []\n",
    "df['batters_reformated'] = ''\n",
    "\n",
    "for index, row in df.iterrows():\n",
    "    batters = row['batters']\n",
    "    all_paths = []\n",
    "    all_vals = []\n",
    "    x, y = walk_path(batters)\n",
    "    res =pd.DataFrame(x, y).reset_index()\n",
    "    res.columns = ['dot_path', 'value']\n",
    "    \n",
    "    res_dict = dict(zip(res.dot_path, res.value))\n",
    "    df.at[index, 'batters_reformated'] = res_dict\n",
    "    all_results.append(res_dict)"
   ]
  },
  {
   "cell_type": "code",
   "execution_count": 8,
   "id": "8ac5e85c",
   "metadata": {},
   "outputs": [
    {
     "data": {
      "text/html": [
       "<div>\n",
       "<style scoped>\n",
       "    .dataframe tbody tr th:only-of-type {\n",
       "        vertical-align: middle;\n",
       "    }\n",
       "\n",
       "    .dataframe tbody tr th {\n",
       "        vertical-align: top;\n",
       "    }\n",
       "\n",
       "    .dataframe thead th {\n",
       "        text-align: right;\n",
       "    }\n",
       "</style>\n",
       "<table border=\"1\" class=\"dataframe\">\n",
       "  <thead>\n",
       "    <tr style=\"text-align: right;\">\n",
       "      <th></th>\n",
       "      <th>id</th>\n",
       "      <th>type</th>\n",
       "      <th>name</th>\n",
       "      <th>ppu</th>\n",
       "      <th>batters</th>\n",
       "      <th>topping</th>\n",
       "      <th>batters_reformated</th>\n",
       "    </tr>\n",
       "  </thead>\n",
       "  <tbody>\n",
       "    <tr>\n",
       "      <th>0</th>\n",
       "      <td>0001</td>\n",
       "      <td>donut</td>\n",
       "      <td>Cake</td>\n",
       "      <td>0.55</td>\n",
       "      <td>{'batter': [{'id': '1001', 'type': 'Regular'},...</td>\n",
       "      <td>[{'id': '5001', 'type': 'None'}, {'id': '5002'...</td>\n",
       "      <td>{'.batter.0.id': '1001', '.batter.0.type': 'Re...</td>\n",
       "    </tr>\n",
       "    <tr>\n",
       "      <th>1</th>\n",
       "      <td>0002</td>\n",
       "      <td>donut</td>\n",
       "      <td>Raised</td>\n",
       "      <td>0.55</td>\n",
       "      <td>{'batter': [{'id': '1001', 'type': 'Regular'}]}</td>\n",
       "      <td>[{'id': '5001', 'type': 'None'}, {'id': '5002'...</td>\n",
       "      <td>{'.batter.0.id': '1001', '.batter.0.type': 'Re...</td>\n",
       "    </tr>\n",
       "    <tr>\n",
       "      <th>2</th>\n",
       "      <td>0003</td>\n",
       "      <td>donut</td>\n",
       "      <td>Old Fashioned</td>\n",
       "      <td>0.55</td>\n",
       "      <td>{'batter': [{'id': '1001', 'type': 'Regular'},...</td>\n",
       "      <td>[{'id': '5001', 'type': 'None'}, {'id': '5002'...</td>\n",
       "      <td>{'.batter.0.id': '1001', '.batter.0.type': 'Re...</td>\n",
       "    </tr>\n",
       "  </tbody>\n",
       "</table>\n",
       "</div>"
      ],
      "text/plain": [
       "     id   type           name   ppu  \\\n",
       "0  0001  donut           Cake  0.55   \n",
       "1  0002  donut         Raised  0.55   \n",
       "2  0003  donut  Old Fashioned  0.55   \n",
       "\n",
       "                                             batters  \\\n",
       "0  {'batter': [{'id': '1001', 'type': 'Regular'},...   \n",
       "1    {'batter': [{'id': '1001', 'type': 'Regular'}]}   \n",
       "2  {'batter': [{'id': '1001', 'type': 'Regular'},...   \n",
       "\n",
       "                                             topping  \\\n",
       "0  [{'id': '5001', 'type': 'None'}, {'id': '5002'...   \n",
       "1  [{'id': '5001', 'type': 'None'}, {'id': '5002'...   \n",
       "2  [{'id': '5001', 'type': 'None'}, {'id': '5002'...   \n",
       "\n",
       "                                  batters_reformated  \n",
       "0  {'.batter.0.id': '1001', '.batter.0.type': 'Re...  \n",
       "1  {'.batter.0.id': '1001', '.batter.0.type': 'Re...  \n",
       "2  {'.batter.0.id': '1001', '.batter.0.type': 'Re...  "
      ]
     },
     "execution_count": 8,
     "metadata": {},
     "output_type": "execute_result"
    }
   ],
   "source": [
    "df"
   ]
  },
  {
   "cell_type": "code",
   "execution_count": 9,
   "id": "7db0d7a6",
   "metadata": {},
   "outputs": [
    {
     "data": {
      "text/plain": [
       "{'batter': [{'id': '1001', 'type': 'Regular'},\n",
       "  {'id': '1002', 'type': 'Chocolate'},\n",
       "  {'id': '1003', 'type': 'Blueberry'},\n",
       "  {'id': '1004', 'type': \"Devil's Food\"}]}"
      ]
     },
     "execution_count": 9,
     "metadata": {},
     "output_type": "execute_result"
    }
   ],
   "source": [
    "# original data for batters\n",
    "df['batters'][0]"
   ]
  },
  {
   "cell_type": "code",
   "execution_count": 10,
   "id": "2374fb1e",
   "metadata": {},
   "outputs": [
    {
     "data": {
      "text/plain": [
       "{'.batter.0.id': '1001',\n",
       " '.batter.0.type': 'Regular',\n",
       " '.batter.1.id': '1002',\n",
       " '.batter.1.type': 'Chocolate',\n",
       " '.batter.2.id': '1003',\n",
       " '.batter.2.type': 'Blueberry',\n",
       " '.batter.3.id': '1004',\n",
       " '.batter.3.type': \"Devil's Food\"}"
      ]
     },
     "execution_count": 10,
     "metadata": {},
     "output_type": "execute_result"
    }
   ],
   "source": [
    "# reformatted data based on my func \n",
    "df['batters_reformated'][0]"
   ]
  },
  {
   "cell_type": "code",
   "execution_count": null,
   "id": "b2e2e068",
   "metadata": {},
   "outputs": [],
   "source": []
  }
 ],
 "metadata": {
  "kernelspec": {
   "display_name": "Python 3 (ipykernel)",
   "language": "python",
   "name": "python3"
  },
  "language_info": {
   "codemirror_mode": {
    "name": "ipython",
    "version": 3
   },
   "file_extension": ".py",
   "mimetype": "text/x-python",
   "name": "python",
   "nbconvert_exporter": "python",
   "pygments_lexer": "ipython3",
   "version": "3.9.13"
  }
 },
 "nbformat": 4,
 "nbformat_minor": 5
}
