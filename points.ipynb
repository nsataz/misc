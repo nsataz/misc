{
 "cells": [
  {
   "cell_type": "code",
   "execution_count": 99,
   "id": "be00186d",
   "metadata": {},
   "outputs": [],
   "source": [
    "import pandas as pd"
   ]
  },
  {
   "cell_type": "code",
   "execution_count": 49,
   "id": "99d6cbd6-f436-4d05-bf0b-da529138aafc",
   "metadata": {},
   "outputs": [
    {
     "name": "stderr",
     "output_type": "stream",
     "text": [
      "<ipython-input-49-9980d2db21fa>:2: DtypeWarning: Columns (5,7) have mixed types. Specify dtype option on import or set low_memory=False.\n",
      "  df1 = pd.read_csv('202305-citibike-tripdata_1.csv')\n",
      "<ipython-input-49-9980d2db21fa>:3: DtypeWarning: Columns (5,7) have mixed types. Specify dtype option on import or set low_memory=False.\n",
      "  df2 = pd.read_csv('202305-citibike-tripdata_2.csv')\n"
     ]
    }
   ],
   "source": [
    "# Load datasets\n",
    "df1 = pd.read_csv('202305-citibike-tripdata_1.csv')\n",
    "df2 = pd.read_csv('202305-citibike-tripdata_2.csv')\n",
    "\n",
    "# Convert timestamps to datetime objects\n",
    "df1['timestamp'] = pd.to_datetime(df1['started_at'])\n",
    "df2['timestamp'] = pd.to_datetime(df2['started_at'])\n",
    "\n",
    "# Subset and rename columns\n",
    "df1 = df1[['timestamp','start_lat', 'end_lat']]\n",
    "df1.columns = ['timestamp','latitude', 'longitude']\n",
    "\n",
    "df2 = df2[['timestamp','start_lat', 'end_lat']]\n",
    "df2.columns = ['timestamp','lat', 'lon']"
   ]
  },
  {
   "cell_type": "code",
   "execution_count": 50,
   "id": "e2984c9c-3fd7-4051-a18f-a5eaf8f1b457",
   "metadata": {},
   "outputs": [],
   "source": [
    "# Sort datasets by timestamp\n",
    "df1 = df1.sort_values(by='timestamp')\n",
    "df2 = df2.sort_values(by='timestamp')\n",
    "\n",
    "# Drop na\n",
    "df1 = df1.dropna(subset=['latitude', 'longitude'])\n",
    "df2 = df2.dropna(subset=['lat', 'lon'])"
   ]
  },
  {
   "cell_type": "code",
   "execution_count": 86,
   "id": "d2e9752d-d538-4109-b1f7-2716a21f0d42",
   "metadata": {},
   "outputs": [
    {
     "name": "stderr",
     "output_type": "stream",
     "text": [
      "/Users/avichudasama/opt/anaconda3/envs/sandbox/lib/python3.9/site-packages/pandas/core/dtypes/cast.py:127: ShapelyDeprecationWarning: The array interface is deprecated and will no longer work in Shapely 2.0. Convert the '.coords' to a numpy array instead.\n",
      "  arr = construct_1d_object_array_from_listlike(values)\n"
     ]
    }
   ],
   "source": [
    "import pandas as pd\n",
    "from shapely.geometry import Point\n",
    "\n",
    "# Create Shapely Point geometries from latitude and longitude\n",
    "df1['geometry'] = [Point(lon, lat) for lon, lat in zip(df1['longitude'], df1['latitude'])]\n",
    "df2['geometry'] = [Point(lon, lat) for lon, lat in zip(df2['lon'], df2['lat'])]\n",
    "\n",
    "# Buffer the points (e.g., with a radius of 1 degree)\n",
    "buffer_radius = .001  # Modify this value as needed\n",
    "df1['buffer'] = df1['geometry'].apply(lambda point: point.buffer(buffer_radius))"
   ]
  },
  {
   "cell_type": "code",
   "execution_count": 89,
   "id": "b1f4d60d-bd73-406b-ae74-bddc6a1c7874",
   "metadata": {},
   "outputs": [
    {
     "data": {
      "text/html": [
       "<div>\n",
       "<style scoped>\n",
       "    .dataframe tbody tr th:only-of-type {\n",
       "        vertical-align: middle;\n",
       "    }\n",
       "\n",
       "    .dataframe tbody tr th {\n",
       "        vertical-align: top;\n",
       "    }\n",
       "\n",
       "    .dataframe thead th {\n",
       "        text-align: right;\n",
       "    }\n",
       "</style>\n",
       "<table border=\"1\" class=\"dataframe\">\n",
       "  <thead>\n",
       "    <tr style=\"text-align: right;\">\n",
       "      <th></th>\n",
       "      <th>df1index</th>\n",
       "      <th>timestamp</th>\n",
       "      <th>latitude</th>\n",
       "      <th>longitude</th>\n",
       "      <th>geometry</th>\n",
       "      <th>buffer</th>\n",
       "    </tr>\n",
       "  </thead>\n",
       "  <tbody>\n",
       "    <tr>\n",
       "      <th>0</th>\n",
       "      <td>531396</td>\n",
       "      <td>2023-05-01 00:00:24</td>\n",
       "      <td>40.735081</td>\n",
       "      <td>40.758057</td>\n",
       "      <td>POINT (40.758057 40.735080957)</td>\n",
       "      <td>POLYGON ((40.759057 40.735080957, 40.759052184...</td>\n",
       "    </tr>\n",
       "    <tr>\n",
       "      <th>1</th>\n",
       "      <td>800632</td>\n",
       "      <td>2023-05-01 00:00:28</td>\n",
       "      <td>40.774925</td>\n",
       "      <td>40.759345</td>\n",
       "      <td>POINT (40.75934501 40.77492513)</td>\n",
       "      <td>POLYGON ((40.760345009999995 40.77492513, 40.7...</td>\n",
       "    </tr>\n",
       "  </tbody>\n",
       "</table>\n",
       "</div>"
      ],
      "text/plain": [
       "   df1index           timestamp   latitude  longitude  \\\n",
       "0    531396 2023-05-01 00:00:24  40.735081  40.758057   \n",
       "1    800632 2023-05-01 00:00:28  40.774925  40.759345   \n",
       "\n",
       "                          geometry  \\\n",
       "0   POINT (40.758057 40.735080957)   \n",
       "1  POINT (40.75934501 40.77492513)   \n",
       "\n",
       "                                              buffer  \n",
       "0  POLYGON ((40.759057 40.735080957, 40.759052184...  \n",
       "1  POLYGON ((40.760345009999995 40.77492513, 40.7...  "
      ]
     },
     "execution_count": 89,
     "metadata": {},
     "output_type": "execute_result"
    }
   ],
   "source": [
    "df1 = df1.reset_index().rename(columns={'index': 'df1index'})\n",
    "\n",
    "df1.head(2)"
   ]
  },
  {
   "cell_type": "code",
   "execution_count": 90,
   "id": "2f3c4220-6765-4e22-aeec-e31da2f0356b",
   "metadata": {},
   "outputs": [
    {
     "data": {
      "text/html": [
       "<div>\n",
       "<style scoped>\n",
       "    .dataframe tbody tr th:only-of-type {\n",
       "        vertical-align: middle;\n",
       "    }\n",
       "\n",
       "    .dataframe tbody tr th {\n",
       "        vertical-align: top;\n",
       "    }\n",
       "\n",
       "    .dataframe thead th {\n",
       "        text-align: right;\n",
       "    }\n",
       "</style>\n",
       "<table border=\"1\" class=\"dataframe\">\n",
       "  <thead>\n",
       "    <tr style=\"text-align: right;\">\n",
       "      <th></th>\n",
       "      <th>df2index</th>\n",
       "      <th>timestamp</th>\n",
       "      <th>lat</th>\n",
       "      <th>lon</th>\n",
       "      <th>geometry</th>\n",
       "    </tr>\n",
       "  </thead>\n",
       "  <tbody>\n",
       "    <tr>\n",
       "      <th>0</th>\n",
       "      <td>62582</td>\n",
       "      <td>2023-05-01 00:00:03</td>\n",
       "      <td>40.680467</td>\n",
       "      <td>40.669920</td>\n",
       "      <td>POINT (40.66992 40.680466652)</td>\n",
       "    </tr>\n",
       "    <tr>\n",
       "      <th>1</th>\n",
       "      <td>840640</td>\n",
       "      <td>2023-05-01 00:00:13</td>\n",
       "      <td>40.746647</td>\n",
       "      <td>40.737169</td>\n",
       "      <td>POINT (40.73716919369882 40.746647)</td>\n",
       "    </tr>\n",
       "  </tbody>\n",
       "</table>\n",
       "</div>"
      ],
      "text/plain": [
       "   df2index           timestamp        lat        lon  \\\n",
       "0     62582 2023-05-01 00:00:03  40.680467  40.669920   \n",
       "1    840640 2023-05-01 00:00:13  40.746647  40.737169   \n",
       "\n",
       "                              geometry  \n",
       "0        POINT (40.66992 40.680466652)  \n",
       "1  POINT (40.73716919369882 40.746647)  "
      ]
     },
     "execution_count": 90,
     "metadata": {},
     "output_type": "execute_result"
    }
   ],
   "source": [
    "df2 = df2.reset_index().rename(columns={'index': 'df2index'})\n",
    "\n",
    "df2.head(2)"
   ]
  },
  {
   "cell_type": "code",
   "execution_count": 91,
   "id": "4cb2149d-f063-439d-adee-ea52ab844fc1",
   "metadata": {},
   "outputs": [
    {
     "data": {
      "text/html": [
       "<div>\n",
       "<style scoped>\n",
       "    .dataframe tbody tr th:only-of-type {\n",
       "        vertical-align: middle;\n",
       "    }\n",
       "\n",
       "    .dataframe tbody tr th {\n",
       "        vertical-align: top;\n",
       "    }\n",
       "\n",
       "    .dataframe thead th {\n",
       "        text-align: right;\n",
       "    }\n",
       "</style>\n",
       "<table border=\"1\" class=\"dataframe\">\n",
       "  <thead>\n",
       "    <tr style=\"text-align: right;\">\n",
       "      <th></th>\n",
       "      <th>df1index</th>\n",
       "      <th>timestamp</th>\n",
       "      <th>latitude</th>\n",
       "      <th>longitude</th>\n",
       "      <th>geometry_x</th>\n",
       "      <th>buffer</th>\n",
       "      <th>df2index</th>\n",
       "      <th>lat</th>\n",
       "      <th>lon</th>\n",
       "      <th>geometry_y</th>\n",
       "    </tr>\n",
       "  </thead>\n",
       "  <tbody>\n",
       "    <tr>\n",
       "      <th>0</th>\n",
       "      <td>531396</td>\n",
       "      <td>2023-05-01 00:00:24</td>\n",
       "      <td>40.735081</td>\n",
       "      <td>40.758057</td>\n",
       "      <td>POINT (40.758057 40.735080957)</td>\n",
       "      <td>POLYGON ((40.759057 40.735080957, 40.759052184...</td>\n",
       "      <td>282853.0</td>\n",
       "      <td>40.835144</td>\n",
       "      <td>40.865570</td>\n",
       "      <td>POINT (40.86557 40.835143685)</td>\n",
       "    </tr>\n",
       "    <tr>\n",
       "      <th>1</th>\n",
       "      <td>800632</td>\n",
       "      <td>2023-05-01 00:00:28</td>\n",
       "      <td>40.774925</td>\n",
       "      <td>40.759345</td>\n",
       "      <td>POINT (40.75934501 40.77492513)</td>\n",
       "      <td>POLYGON ((40.760345009999995 40.77492513, 40.7...</td>\n",
       "      <td>253909.0</td>\n",
       "      <td>40.685327</td>\n",
       "      <td>40.687881</td>\n",
       "      <td>POINT (40.687880939612775 40.685327172)</td>\n",
       "    </tr>\n",
       "  </tbody>\n",
       "</table>\n",
       "</div>"
      ],
      "text/plain": [
       "   df1index           timestamp   latitude  longitude  \\\n",
       "0    531396 2023-05-01 00:00:24  40.735081  40.758057   \n",
       "1    800632 2023-05-01 00:00:28  40.774925  40.759345   \n",
       "\n",
       "                        geometry_x  \\\n",
       "0   POINT (40.758057 40.735080957)   \n",
       "1  POINT (40.75934501 40.77492513)   \n",
       "\n",
       "                                              buffer  df2index        lat  \\\n",
       "0  POLYGON ((40.759057 40.735080957, 40.759052184...  282853.0  40.835144   \n",
       "1  POLYGON ((40.760345009999995 40.77492513, 40.7...  253909.0  40.685327   \n",
       "\n",
       "         lon                               geometry_y  \n",
       "0  40.865570            POINT (40.86557 40.835143685)  \n",
       "1  40.687881  POINT (40.687880939612775 40.685327172)  "
      ]
     },
     "execution_count": 91,
     "metadata": {},
     "output_type": "execute_result"
    }
   ],
   "source": [
    "# merge dataframes\n",
    "common_timestamps = pd.merge_asof(df1, df2, on='timestamp', tolerance=pd.Timedelta('2 minute'))\n",
    "common_timestamps.head(2)"
   ]
  },
  {
   "cell_type": "markdown",
   "id": "431d7d61-b3c2-4820-bc8d-cc739a86d2ee",
   "metadata": {},
   "source": [
    "pd.merge_asof() is a function provided by the Pandas library in Python, used for merging two datasets based on nearest key columns. It's particularly useful when dealing with time-series data or datasets with ordered keys.\n",
    "\n",
    "The basic idea of merge_asof() is to merge two datasets on the nearest key column. It's similar to a left-join operation, but instead of matching exactly on the key column, it matches on the nearest key that is less than or equal to the current key from the left dataframe."
   ]
  },
  {
   "cell_type": "code",
   "execution_count": 92,
   "id": "338be1e1",
   "metadata": {},
   "outputs": [],
   "source": [
    "# Compare spatial coordinates\n",
    "# compare timestamps to identify common time intervals between the two datasets.\n",
    "\n",
    "distances = []\n",
    "for idx, row in common_timestamps.iterrows():\n",
    "    coord1 = (row['lat'], row['lon'])\n",
    "    buffered_pt = row['buffer']\n",
    "    \n",
    "    coord2 = (row['latitude'], row['longitude'])\n",
    "    point = row['geometry_y']\n",
    "\n",
    "    try:\n",
    "        common_timestamps.at[idx, 'within'] = point.within(buffered_pt)\n",
    "        common_timestamps.at[idx, 'intersects'] = point.intersects(buffered_pt)\n",
    "\n",
    "    except:\n",
    "        pass\n",
    "\n",
    "from geopy.distance import great_circle\n",
    "    try:\n",
    "        distance = great_circle(coord1, coord2).miles\n",
    "        common_timestamps.at[idx, 'delta'] = distance\n",
    "        distances.append(distance)\n",
    "        # print(f\"Distance between points at {row['timestamp']}: {distance} miles\")\n",
    "    except:\n",
    "        print(idx, coord1, coord2)\n",
    "        common_timestamps.at[idx, 'delta'] = 'N/A'"
   ]
  },
  {
   "cell_type": "markdown",
   "id": "ce983272-0882-4369-8a14-2273ffdd3271",
   "metadata": {},
   "source": [
    "great_circle is a function provided by the geopy.distance module in Python, which calculates the great-circle distance between two points on the Earth's surface.\n",
    "\n",
    "A great circle is the shortest path between two points on a sphere, which corresponds to the shortest path along the surface of the Earth when dealing with geographical coordinates (latitude and longitude).\n",
    "\n",
    "Here's a basic example of how to use great_circle:\n",
    "\n",
    "```\n",
    "from geopy.distance import great_circle\n",
    "    try:\n",
    "        distance = great_circle(coord1, coord2).miles\n",
    "        common_timestamps.at[idx, 'delta'] = distance\n",
    "        distances.append(distance)\n",
    "        # print(f\"Distance between points at {row['timestamp']}: {distance} miles\")\n",
    "    except:\n",
    "        print(idx, coord1, coord2)\n",
    "        common_timestamps.at[idx, 'delta'] = 'N/A'\n",
    "```"
   ]
  },
  {
   "cell_type": "code",
   "execution_count": 95,
   "id": "9c86b8e9-0ac5-4c8a-b694-0b0ece578a57",
   "metadata": {},
   "outputs": [
    {
     "data": {
      "text/plain": [
       "False    995430\n",
       "True        904\n",
       "Name: within, dtype: int64"
      ]
     },
     "execution_count": 95,
     "metadata": {},
     "output_type": "execute_result"
    }
   ],
   "source": [
    "common_timestamps['within'].value_counts()"
   ]
  },
  {
   "cell_type": "code",
   "execution_count": 96,
   "id": "62472204-eec1-4f17-b88d-2e0d1890aa6e",
   "metadata": {},
   "outputs": [
    {
     "data": {
      "text/plain": [
       "False    995430\n",
       "True        904\n",
       "Name: intersects, dtype: int64"
      ]
     },
     "execution_count": 96,
     "metadata": {},
     "output_type": "execute_result"
    }
   ],
   "source": [
    "common_timestamps['intersects'].value_counts()"
   ]
  },
  {
   "cell_type": "code",
   "execution_count": 98,
   "id": "ada3d13b-918b-47b0-b37c-3fc8c689e6c2",
   "metadata": {},
   "outputs": [
    {
     "data": {
      "text/html": [
       "<div>\n",
       "<style scoped>\n",
       "    .dataframe tbody tr th:only-of-type {\n",
       "        vertical-align: middle;\n",
       "    }\n",
       "\n",
       "    .dataframe tbody tr th {\n",
       "        vertical-align: top;\n",
       "    }\n",
       "\n",
       "    .dataframe thead th {\n",
       "        text-align: right;\n",
       "    }\n",
       "</style>\n",
       "<table border=\"1\" class=\"dataframe\">\n",
       "  <thead>\n",
       "    <tr style=\"text-align: right;\">\n",
       "      <th></th>\n",
       "      <th>df1index</th>\n",
       "      <th>timestamp</th>\n",
       "      <th>latitude</th>\n",
       "      <th>longitude</th>\n",
       "      <th>geometry_x</th>\n",
       "      <th>buffer</th>\n",
       "      <th>df2index</th>\n",
       "      <th>lat</th>\n",
       "      <th>lon</th>\n",
       "      <th>geometry_y</th>\n",
       "      <th>within</th>\n",
       "      <th>intersects</th>\n",
       "    </tr>\n",
       "  </thead>\n",
       "  <tbody>\n",
       "    <tr>\n",
       "      <th>0</th>\n",
       "      <td>531396</td>\n",
       "      <td>2023-05-01 00:00:24</td>\n",
       "      <td>40.735081</td>\n",
       "      <td>40.758057</td>\n",
       "      <td>POINT (40.758057 40.735080957)</td>\n",
       "      <td>POLYGON ((40.759057 40.735080957, 40.759052184...</td>\n",
       "      <td>282853.0</td>\n",
       "      <td>40.835144</td>\n",
       "      <td>40.865570</td>\n",
       "      <td>POINT (40.86557 40.835143685)</td>\n",
       "      <td>False</td>\n",
       "      <td>False</td>\n",
       "    </tr>\n",
       "    <tr>\n",
       "      <th>1</th>\n",
       "      <td>800632</td>\n",
       "      <td>2023-05-01 00:00:28</td>\n",
       "      <td>40.774925</td>\n",
       "      <td>40.759345</td>\n",
       "      <td>POINT (40.75934501 40.77492513)</td>\n",
       "      <td>POLYGON ((40.760345009999995 40.77492513, 40.7...</td>\n",
       "      <td>253909.0</td>\n",
       "      <td>40.685327</td>\n",
       "      <td>40.687881</td>\n",
       "      <td>POINT (40.687880939612775 40.685327172)</td>\n",
       "      <td>False</td>\n",
       "      <td>False</td>\n",
       "    </tr>\n",
       "  </tbody>\n",
       "</table>\n",
       "</div>"
      ],
      "text/plain": [
       "   df1index           timestamp   latitude  longitude  \\\n",
       "0    531396 2023-05-01 00:00:24  40.735081  40.758057   \n",
       "1    800632 2023-05-01 00:00:28  40.774925  40.759345   \n",
       "\n",
       "                        geometry_x  \\\n",
       "0   POINT (40.758057 40.735080957)   \n",
       "1  POINT (40.75934501 40.77492513)   \n",
       "\n",
       "                                              buffer  df2index        lat  \\\n",
       "0  POLYGON ((40.759057 40.735080957, 40.759052184...  282853.0  40.835144   \n",
       "1  POLYGON ((40.760345009999995 40.77492513, 40.7...  253909.0  40.685327   \n",
       "\n",
       "         lon                               geometry_y within intersects  \n",
       "0  40.865570            POINT (40.86557 40.835143685)  False      False  \n",
       "1  40.687881  POINT (40.687880939612775 40.685327172)  False      False  "
      ]
     },
     "execution_count": 98,
     "metadata": {},
     "output_type": "execute_result"
    }
   ],
   "source": [
    "common_timestamps.head(2)"
   ]
  }
 ],
 "metadata": {
  "kernelspec": {
   "display_name": "Python 3",
   "language": "python",
   "name": "python3"
  },
  "language_info": {
   "codemirror_mode": {
    "name": "ipython",
    "version": 3
   },
   "file_extension": ".py",
   "mimetype": "text/x-python",
   "name": "python",
   "nbconvert_exporter": "python",
   "pygments_lexer": "ipython3",
   "version": "3.9.18"
  }
 },
 "nbformat": 4,
 "nbformat_minor": 5
}
